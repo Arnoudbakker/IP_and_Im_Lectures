{
 "cells": [
  {
   "cell_type": "markdown",
   "metadata": {},
   "source": [
    "# Variational formulations for inverse problems\n",
    "\n",
    "## Analysis\n",
    "\n",
    "## Linear PDEs\n",
    "\n",
    "## Non-linear PDEs"
   ]
  },
  {
   "cell_type": "markdown",
   "metadata": {},
   "source": [
    "## Exercises"
   ]
  },
  {
   "cell_type": "markdown",
   "metadata": {},
   "source": [
    "### Well-posedness and optimality conditions\n",
    "\n",
    "The following functionals are given (for $\\alpha > 0$ and $A \\in \\mathbb{R}^{2 \\times 2}$ an invertible matrix):\n",
    "\n",
    "* $J_1: \\mathbb{R} \\rightarrow \\mathbb{R}, u \\mapsto \\frac{1}2(u-f)^2 + \\alpha|u|$\n",
    "* $J_2: \\mathbb{R} \\rightarrow \\mathbb{R}, u \\mapsto |u-f| + \\alpha u^2$\n",
    "* $J_3: \\mathbb{R}^2 \\rightarrow \\mathbb{R}, u \\mapsto \\frac{1}2\\Vert A u - f\\Vert_{\\ell^2}^2  + \\alpha \\Vert u \\Vert_{\\ell^2}$\n",
    "\n",
    "For the optimisation problems $J_i(u) \\rightarrow \\min_u$ perform the following analysis:\n",
    "\n",
    "__Proof__, that a minimum exists (use the fundamental theorem of optimisation) and __proof__ that it is unique.\n",
    "\n",
    "__Compute__ the optimality conditions and thereof (using cases) a solution formula dependent on $f$. It holds for $p\\in\\partial\\left\\|u\\right\\|_{\\ell^2}$ that\n",
    "$$p = \\frac{u}{\\left\\|u\\right\\|_{\\ell^2}} \\text{ for } \\; u\\neq 0 \\text{, and }$$\n",
    "$$p \\in \\mathrm{B}_1(0) \\quad \\text{ for } \\; u = 0\\, \\qquad$$\n",
    "where $\\mathrm{B}_1(0)$ denotes the unit ball around $0$.\n",
    "\n",
    "Hint: Remark, that for $J_3$ no explicit solution formula can be given. Hence, use the following substitution\n",
    "$c:=\\frac{\\alpha}{\\left\\|u\\right\\|_{\\ell^2}}$ and provide a solution formula dependent on $c$ and $f$."
   ]
  },
  {
   "cell_type": "markdown",
   "metadata": {},
   "source": [
    "### Well-posedness of the ROF model\n",
    "\n",
    "* For existence of a solution, verify why the TV functional is lower semi-continuous in the corresponding topology.\n",
    "\n",
    "* Does the Rudin-Osher-Fatemi model have a unique minimizer? Why or why not?"
   ]
  },
  {
   "cell_type": "markdown",
   "metadata": {},
   "source": [
    "### Deconvolution using the $L_1$ norm\n",
    "\n",
    "For given data $f$ and a convolution kernel $k$ we study the following regularized variational method:\n",
    "\n",
    "$$ \n",
    "\\left\\| k \\ast u - f \\right\\|_{L^2(\\Omega)}^2 \\:+\\: \\alpha \\: \\int_\\Omega | (\\mathcal{F}u)(w) | \\: dw \\: \\rightarrow \\: \\min_{u} \n",
    "$$\n",
    "\n",
    "where $(\\mathcal{F}u)(w)$ denotes the Fourier transform of $u$ at wave number $w$. Similar to the lecture, find an explicit representation of the solution of the problem using the [convolution theorem](https://en.wikipedia.org/wiki/Convolution_theorem) and the [Plancherel theorem](https://en.wikipedia.org/wiki/Plancherel_theorem). For simplicity you can assume that everything is real valued.\n",
    "\n",
    "Hint: The derivative of the absolute value function is multivalued (you need cases)."
   ]
  },
  {
   "cell_type": "markdown",
   "metadata": {},
   "source": [
    "### Fréchet derivatives\n",
    "\n",
    "Let $\\Omega \\subset \\mathbb{R}^2$ and $\\Sigma \\subset \\mathbb{R}^2$. Compute the Fréchet derivatives of the following functionals:\n",
    "\n",
    "* $J(u) = \\frac{1}{2} \\left\\| \\nabla u \\right\\|_{L^2(\\Omega)}^2$ where $u \\in W^{1,2}(\\Omega)$.\n",
    "\n",
    "```{admonition} Answer\n",
    ":class: tip, dropdown\n",
    "\n",
    "We have $J(u + h) = \\textstyle{\\frac{1}{2}}\\|\\nabla u + \\nabla h\\|^2 = \\textstyle{\\frac{1}{2}}\\|\\nabla u\\|^2 +  \\int_{\\Omega}\\nabla u(x) \\cdot \\nabla h(x) \\mathrm{d}x + \\textstyle{\\frac{1}{2}}\\|\\nabla h\\|^2$. This suggests that $DJ(u) : U \\rightarrow \\mathbb{R}$ can be defined as $DJ(u)v = \\int_{\\Omega}\\nabla u(x) \\cdot \\nabla v(x) \\mathrm{d}x$. Indeed, we can verify that\n",
    "\n",
    "$$\n",
    "\\lim_{\\|h\\|\\rightarrow 0} \\frac{\\left| \\int_{\\Omega}\\nabla h (x) \\cdot \\nabla h(x)\\mathrm{d}x \\right|}{\\sqrt{\\int_{\\Omega} |h(x)|^2 + |\\nabla h(x) \\cdot \\nabla h(x) | \\mathrm{d}x}} = 0.\n",
    "$$\n",
    "```\n",
    "\n",
    "* $J(u) = \\frac{1}{2} \\left\\| Ku-f \\right\\|_{L^2(\\Sigma)}^2$ where $K: L^2(\\Omega) \\rightarrow L^2(\\Sigma)$ is a compact linear operator, $u : \\Omega \\rightarrow \\mathbb{R}$ and $f : \\Sigma \\rightarrow \\mathbb{R}$.\n",
    "\n",
    "```{admonition} Answer\n",
    ":class: tip, dropdown\n",
    "\n",
    "We have $J(u+h) = J(u) + \\langle Ku - f, Kv \\rangle + \\textstyle{\\frac{1}{2}}\\|Kv\\|^2.$ This suggests letting $DJ(u)v = \\langle Ku - f, Kv\\rangle = \\langle K^*(Ku - f), v\\rangle$. Indeed\n",
    "\n",
    "$$\n",
    "\\lim_{\\|h\\|\\rightarrow 0}\\frac{\\|Kh\\|^2_{L^2}}{\\|h\\|_{L^2}} = 0,\n",
    "$$\n",
    "\n",
    "because $K$ is bounded.\n",
    "```\n",
    "\n",
    "* $J(\\mathbf{v}) = \\frac{1}{2} \\left\\| \\partial_t f + \\nabla\\cdot(f \\mathbf{v}) \\right\\|_{L^2(\\Omega \\times [0,T])}^2$ \n",
    "\twhere $f$ here represents an image sequence, i.e. $f: \\Omega \\times [0,T] \\rightarrow \\mathbb{R}$, and $\\mathbf{v}$ denotes a desired vector field, i.e. $\\mathbf{v}: \\Omega \\times [0,T] \\rightarrow \\mathbb{R}^2$.\n",
    "\n",
    "```{admonition} Answer\n",
    ":class: tip, dropdown\n",
    "\n",
    "Here, we have $J(\\mathbf{v} + \\mathbf{h}) = J(\\mathbf{v}) + \\langle \\partial_t f + \\nabla \\cdot (f\\mathbf{v}),  \\nabla \\cdot (f\\mathbf{h})\\rangle + \\textstyle{\\frac{1}{2}}\\|\\nabla \\cdot (f\\mathbf{h})\\|^2$, suggesting\n",
    "\n",
    "$$\n",
    "DJ(\\mathbf{v})\\mathbf{h} = \\int_0^T \\int_{\\Omega} \\left(\\partial_t f(x,t) + \\nabla \\cdot (f(x,t)\\mathbf{v}(x,t))\\right)\\left(\\nabla \\cdot (f(x,t)\\mathbf{v}(x,t))\\right) \\mathrm{d}t\\mathrm{d}x.\n",
    "$$\n",
    "```"
   ]
  },
  {
   "cell_type": "markdown",
   "metadata": {},
   "source": [
    "### $\\ell_2$-denoising\n",
    "\n",
    "Consider the Tikhonov functional for denoising (in $\\mathbb{R}^n$):\n",
    "\n",
    "$$\n",
    "\\min\\limits_u\\textstyle{\\frac{1}{2}}\\left\\|u-f\\right\\|_2^2 + \\frac{\\alpha}{2}\\left\\|u\\right\\|_2^2.\n",
    "$$\n",
    "\n",
    "* Give the solution of this variational problem explicitly.\n",
    "* Generate in Python a random 1x128 vector with 5 non-zero coefficients (entries) and add aussian noise with standard deviation $\\sigma = 0.05$ (see example below)\n",
    "* Denoise the vector by solving the variational problem. What happens for different regularisation parameters $\\alpha = \\left\\{0.01, 0.05, 0.1, 0.2\\right\\}$?. Consider in particular $\\alpha=0.1$. *Is the solution sparse?*"
   ]
  },
  {
   "cell_type": "code",
   "execution_count": 4,
   "metadata": {},
   "outputs": [
    {
     "data": {
      "text/plain": [
       "[<matplotlib.lines.Line2D at 0x11a5250d0>]"
      ]
     },
     "execution_count": 4,
     "metadata": {},
     "output_type": "execute_result"
    },
    {
     "data": {
      "image/png": "[encoded data removed]",
      "text/plain": [
       "<Figure size 432x288 with 1 Axes>"
      ]
     },
     "metadata": {
      "needs_background": "light"
     },
     "output_type": "display_data"
    }
   ],
   "source": [
    "# import libraries\n",
    "import numpy as np\n",
    "import matplotlib.pyplot as plt\n",
    "\n",
    "# parameters\n",
    "n = 128\n",
    "k = 5\n",
    "sigma = 0.05\n",
    "\n",
    "# generate spiky signal with random amplitudes\n",
    "u = np.zeros(n)\n",
    "u[np.random.randint(128,size=k)] = np.random.randn(k)\n",
    "\n",
    "# generate noisy signal\n",
    "f = u + sigma*np.random.randn(n)\n",
    "\n",
    "# plot\n",
    "plt.plot(u)\n",
    "plt.plot(f)"
   ]
  },
  {
   "cell_type": "markdown",
   "metadata": {},
   "source": [
    "```{admonition} Answer\n",
    ":class: tip, dropdown\n",
    "\n",
    "* The solution is given by $u = (1 + \\alpha)^{-1}f.$\n",
    "* The results are shown below (click `+` to show the code), showing that (as expected), the result is only scaled down. This obviously reduces the noise level but also effects the amplitude of the spikes.\n",
    "```"
   ]
  },
  {
   "cell_type": "code",
   "execution_count": 11,
   "metadata": {
    "tags": [
     "hide-cell"
    ]
   },
   "outputs": [
    {
     "data": {
      "image/png": "[encoded data removed]",
      "text/plain": [
       "<Figure size 432x288 with 1 Axes>"
      ]
     },
     "metadata": {
      "needs_background": "light"
     },
     "output_type": "display_data"
    }
   ],
   "source": [
    "# import libraries\n",
    "import numpy as np\n",
    "import matplotlib.pyplot as plt\n",
    "\n",
    "# parameters\n",
    "n = 128\n",
    "k = 5\n",
    "sigma = 0.05\n",
    "\n",
    "# random seed\n",
    "np.random.seed(1)\n",
    "\n",
    "# generate spiky signal with random amplitudes\n",
    "u = np.zeros(n)\n",
    "u[np.random.randint(128,size=k)] = np.random.randn(k)\n",
    "\n",
    "# generate noisy signal\n",
    "f = u + sigma*np.random.randn(n)\n",
    "\n",
    "# denoise\n",
    "alpha = .1\n",
    "uhat = f/(1 + alpha)\n",
    "\n",
    "# plot\n",
    "plt.plot(u, label='ground truth')\n",
    "plt.plot(uhat, label='denoised signal')\n",
    "plt.legend()\n",
    "plt.show()"
   ]
  },
  {
   "cell_type": "markdown",
   "metadata": {},
   "source": [
    "### $\\ell_1$-denoising\n",
    "\n",
    "Repeat the previous exercise for the $\\ell_1$-densoining problem\n",
    "\n",
    "$$\n",
    "\\min\\limits_u\\textstyle{\\frac{1}{2}}\\left\\|u-f\\right\\|_2^2 + \\alpha \\left\\|u\\right\\|_1.\n",
    "$$"
   ]
  },
  {
   "cell_type": "markdown",
   "metadata": {},
   "source": [
    "```{admonition} Answer\n",
    ":class: tip, dropdown\n",
    "\n",
    "The exact solution known as *soft tresholding*. A derivation can be found [here](https://math.stackexchange.com/questions/471339/derivation-of-soft-thresholding-operator-proximal-operator-of-l-1-norm)\n",
    "```"
   ]
  },
  {
   "cell_type": "code",
   "execution_count": 12,
   "metadata": {
    "tags": [
     "hide-cell"
    ]
   },
   "outputs": [
    {
     "data": {
      "image/png": "[encoded data removed]",
      "text/plain": [
       "<Figure size 432x288 with 1 Axes>"
      ]
     },
     "metadata": {
      "needs_background": "light"
     },
     "output_type": "display_data"
    }
   ],
   "source": [
    "# soft tresholding operation\n",
    "def soft(y,alpha):\n",
    "    return np.sign(y)*np.maximum(np.abs(y) - alpha,0)\n",
    "\n",
    "# import libraries\n",
    "import numpy as np\n",
    "import matplotlib.pyplot as plt\n",
    "\n",
    "# parameters\n",
    "n = 128\n",
    "k = 5\n",
    "sigma = 0.05\n",
    "\n",
    "# random seed\n",
    "np.random.seed(1)\n",
    "\n",
    "# generate spiky signal with random amplitudes\n",
    "u = np.zeros(n)\n",
    "u[np.random.randint(128,size=k)] = np.random.randn(k)\n",
    "\n",
    "# generate noisy signal\n",
    "f = u + sigma*np.random.randn(n)\n",
    "\n",
    "# denoise\n",
    "alpha = 0.1\n",
    "uhat = soft(f,alpha)\n",
    "\n",
    "# plot\n",
    "plt.plot(u, label='ground truth')\n",
    "plt.plot(uhat, label='denoised signal')\n",
    "plt.legend()\n",
    "plt.show()"
   ]
  }
 ],
 "metadata": {
  "celltoolbar": "Tags",
  "kernelspec": {
   "display_name": "Python 3",
   "language": "python",
   "name": "python3"
  },
  "language_info": {
   "codemirror_mode": {
    "name": "ipython",
    "version": 3
   },
   "file_extension": ".py",
   "mimetype": "text/x-python",
   "name": "python",
   "nbconvert_exporter": "python",
   "pygments_lexer": "ipython3",
   "version": "3.7.6"
  }
 },
 "nbformat": 4,
 "nbformat_minor": 4
}
