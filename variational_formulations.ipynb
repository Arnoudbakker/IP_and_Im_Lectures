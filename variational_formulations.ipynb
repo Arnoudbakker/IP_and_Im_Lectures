{
 "cells": [
  {
   "cell_type": "markdown",
   "metadata": {},
   "source": [
    "# Variational formulations for inverse problems\n",
    "\n",
    "## Analysis\n",
    "\n",
    "## Linear PDEs\n",
    "\n",
    "## Non-linear PDEs"
   ]
  },
  {
   "cell_type": "markdown",
   "metadata": {},
   "source": [
    "## Exercises"
   ]
  },
  {
   "cell_type": "markdown",
   "metadata": {},
   "source": [
    "### Deconvolution using the $L_1$ norm\n",
    "\n",
    "For given data $f$ and a convolution kernel $k$ we study the following regularized variational method:\n",
    "\n",
    "$$ \n",
    "\\left\\| k \\ast u - f \\right\\|_{L^2(\\Omega)}^2 \\:+\\: \\alpha \\: \\int_\\Omega | (\\mathcal{F}u)(w) | \\: dw \\: \\rightarrow \\: \\min_{u} \n",
    "$$\n",
    "\n",
    "where $(\\mathcal{F}u)(w)$ denotes the Fourier transform of $u$ at wave number $w$. Similar to the lecture, find an explicit representation of the solution of the problem using the [convolution theorem](https://en.wikipedia.org/wiki/Convolution_theorem) and the [Plancherel theorem](https://en.wikipedia.org/wiki/Plancherel_theorem). For simplicity you can assume that everything is real valued.\n",
    "\n",
    "Hint: The derivative of the absolute value function is multivalued (you need cases)."
   ]
  },
  {
   "cell_type": "code",
   "execution_count": null,
   "metadata": {},
   "outputs": [],
   "source": []
  }
 ],
 "metadata": {
  "kernelspec": {
   "display_name": "Python 3",
   "language": "python",
   "name": "python3"
  },
  "language_info": {
   "codemirror_mode": {
    "name": "ipython",
    "version": 3
   },
   "file_extension": ".py",
   "mimetype": "text/x-python",
   "name": "python",
   "nbconvert_exporter": "python",
   "pygments_lexer": "ipython3",
   "version": "3.7.6"
  }
 },
 "nbformat": 4,
 "nbformat_minor": 4
}
